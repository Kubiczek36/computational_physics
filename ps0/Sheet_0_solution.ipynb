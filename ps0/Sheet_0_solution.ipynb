{
 "cells": [
  {
   "cell_type": "code",
   "execution_count": 47,
   "id": "prescription-girlfriend",
   "metadata": {},
   "outputs": [],
   "source": [
    "import numpy as np\n",
    "import matplotlib.pyplot as plt"
   ]
  },
  {
   "cell_type": "code",
   "execution_count": 48,
   "id": "valued-manchester",
   "metadata": {},
   "outputs": [],
   "source": [
    "N_samples = 1000000\n",
    "\n",
    "T = 300 # K\n",
    "m = 4.66e-26 # kg\n",
    "k_B = 1.38e-23 # J/K\n",
    "g = 9.81 # m/s^2\n",
    "\n",
    "beta = 1/(k_B*T)"
   ]
  },
  {
   "cell_type": "code",
   "execution_count": 49,
   "id": "hourly-colony",
   "metadata": {},
   "outputs": [],
   "source": [
    "def inv_cumulative(x, beta, m, g):\n",
    "    \"\"\"Returns the value of the inverse cumuative distribution function for f(h)\"\"\"\n",
    "    return -(1/(beta * m * g)) * np.log(1 - x)"
   ]
  },
  {
   "cell_type": "code",
   "execution_count": 50,
   "id": "opened-logan",
   "metadata": {},
   "outputs": [],
   "source": [
    "# Sample values from uniform distribution between 0 and 1\n",
    "x = np.random.rand(N_samples)\n",
    "\n",
    "# Draw from f(h) using the inverse cumulative distribution function\n",
    "h = inv_cumulative(x, beta, m, g)"
   ]
  },
  {
   "cell_type": "code",
   "execution_count": 51,
   "id": "random-graphics",
   "metadata": {
    "scrolled": true
   },
   "outputs": [
    {
     "data": {
      "text/plain": [
       "Text(0, 0.5, 'p(h) [m$^-1$]')"
      ]
     },
     "execution_count": 51,
     "metadata": {},
     "output_type": "execute_result"
    },
    {
     "data": {
      "image/png": "[encoded data removed]",
      "text/plain": [
       "<Figure size 432x288 with 1 Axes>"
      ]
     },
     "metadata": {
      "needs_background": "light"
     },
     "output_type": "display_data"
    }
   ],
   "source": [
    "# Let's have a look at the distribution of h\n",
    "plt.hist(h, density=True, bins = 100)\n",
    "plt.xlabel(\"h [m]\")\n",
    "plt.ylabel(\"p(h) [m$^-1$]\")"
   ]
  },
  {
   "cell_type": "code",
   "execution_count": 52,
   "id": "confidential-panic",
   "metadata": {},
   "outputs": [],
   "source": [
    "avg_h = 1/N_samples * np.sum(h)\n",
    "avg_h_analytical = 1/(beta*m*g)\n",
    "\n",
    "avg_U = avg_h * m * g\n",
    "avg_U_analytical = 1/beta"
   ]
  },
  {
   "cell_type": "code",
   "execution_count": 53,
   "id": "thermal-accessory",
   "metadata": {
    "scrolled": true
   },
   "outputs": [
    {
     "name": "stdout",
     "output_type": "stream",
     "text": [
      "Average height: 9069.380922886385\n",
      "Analytical average height: 9056.187738709295\n",
      "\n",
      "Average potential energy: 4.1460312113738195e-21\n",
      "Analytical average potential energy: 4.14e-21\n"
     ]
    }
   ],
   "source": [
    "print(\"Average height: {}\".format(avg_h))\n",
    "print(\"Analytical average height: {}\\n\".format(avg_h_analytical))\n",
    "\n",
    "print(\"Average potential energy: {}\".format(avg_U))\n",
    "print(\"Analytical average potential energy: {}\".format(avg_U_analytical))"
   ]
  },
  {
   "cell_type": "markdown",
   "id": "central-spine",
   "metadata": {},
   "source": [
    "  "
   ]
  },
  {
   "cell_type": "markdown",
   "id": "accomplished-stephen",
   "metadata": {},
   "source": [
    "\n",
    "The estimate of the average height from simulations will asymptotically approach the true value with more trials.\n",
    "\n",
    "We can repeat our simulation multiple times to get a better estimate of the average height:"
   ]
  },
  {
   "cell_type": "code",
   "execution_count": 54,
   "id": "stopped-grade",
   "metadata": {},
   "outputs": [
    {
     "name": "stdout",
     "output_type": "stream",
     "text": [
      "Average Height from 100 simulations: 9057.178031174872\n",
      "Analytical average height: 9056.187738709295\n",
      "\n",
      "Average potential energy from 100 simulations: 4.140452708239468e-21\n",
      "Analytical average potential energy: 4.14e-21\n"
     ]
    }
   ],
   "source": [
    "N = 100\n",
    "avg_h_list, avg_U_list = [], []\n",
    "\n",
    "for i in range(N):\n",
    "    \n",
    "    x = np.random.rand(N_samples)\n",
    "    h = inv_cumulative(x, beta, m, g)\n",
    "    \n",
    "    avg_h_list.append(1/N_samples * np.sum(h))\n",
    "    avg_U_list.append(avg_h_list[-1] * m * g)\n",
    "    \n",
    "print(\"Average Height from {} simulations: {}\".format(N, np.average(avg_h_list)))\n",
    "print(\"Analytical average height: {}\\n\".format(avg_h_analytical))\n",
    "\n",
    "print(\"Average potential energy from {} simulations: {}\".format(N, np.average(avg_U_list)))\n",
    "print(\"Analytical average potential energy: {}\".format(avg_U_analytical))"
   ]
  }
 ],
 "metadata": {
  "kernelspec": {
   "display_name": "Python 3",
   "language": "python",
   "name": "python3"
  },
  "language_info": {
   "codemirror_mode": {
    "name": "ipython",
    "version": 3
   },
   "file_extension": ".py",
   "mimetype": "text/x-python",
   "name": "python",
   "nbconvert_exporter": "python",
   "pygments_lexer": "ipython3",
   "version": "3.7.9"
  }
 },
 "nbformat": 4,
 "nbformat_minor": 5
}
