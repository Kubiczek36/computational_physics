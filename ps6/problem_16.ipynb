{
 "cells": [
  {
   "attachments": {},
   "cell_type": "markdown",
   "metadata": {},
   "source": [
    "# Velocity auto correlation functions\n"
   ]
  },
  {
   "cell_type": "code",
   "execution_count": null,
   "metadata": {},
   "outputs": [],
   "source": [
    "import numpy as np\n",
    "import matplotlib.pyplot as plt\n",
    "import pandas as pd\n",
    "from tqdm import tqdm\n",
    "\n",
    "plt.style.use('scandic')"
   ]
  },
  {
   "cell_type": "code",
   "execution_count": null,
   "metadata": {},
   "outputs": [],
   "source": [
    "def velocity_autocorr(v):\n",
    "    ''' Calculate the velocity autocorrelation function for a given array of velocities. '''\n",
    "    v = v - np.mean(v)\n",
    "    corr = np.correlate(v, v, mode='full')\n",
    "    return corr[len(corr)//2:]\n",
    "\n",
    "def diffusion_const(time, autocorr):\n",
    "    ''' Calculate the diffusion constant from the velocity autocorrelation function. '''\n",
    "    return 1/3 * np.trapz(autocorr, time)    \n",
    "\n",
    "def diffusion_const_3d(time, v):\n",
    "    ''' Calculate the diffusion constant from the velocities. '''\n",
    "    products = np.dot(v[:, 0], v)\n",
    "    return 1/3 * np.trapz(products, time)\n",
    "\n",
    "def mean_square_displ(t, v):\n",
    "    '''\n",
    "    Calculate the mean square displacement from the velocities.\n",
    "\n",
    "    Parameters\n",
    "    ----------\n",
    "    t : array_like\n",
    "        The time values.\n",
    "    v : array_like\n",
    "        The velocities.\n",
    "\n",
    "    Returns\n",
    "    -------\n",
    "    array_like\n",
    "        The mean square displacement.   \n",
    "        \n",
    "    '''\n",
    "    num_directions, num_times = v.shape\n",
    "    dt = np.linspace(0, t, num=num_times)\n",
    "    integrand = np.zeros_like(dt)\n",
    "    \n",
    "    for i, t_prime in tqdm(enumerate(dt), total=num_times, desc=\"Calculating\"):\n",
    "        tau = np.linspace(0, t_prime, num=int(t_prime)+1)\n",
    "        velocity_product = np.zeros_like(tau)\n",
    "        \n",
    "        for j, tau_val in enumerate(tau):\n",
    "            velocity_product[j] = np.dot(v[:, int(tau_val)], v[:, 0])\n",
    "        \n",
    "        integrand[i] = np.trapz(velocity_product, tau)\n",
    "    \n",
    "    return 2 * np.trapz(integrand, dt)\n",
    "\n"
   ]
  },
  {
   "attachments": {},
   "cell_type": "markdown",
   "metadata": {},
   "source": [
    "## calculation fot 0-th file"
   ]
  },
  {
   "cell_type": "code",
   "execution_count": null,
   "metadata": {},
   "outputs": [],
   "source": [
    "# read the files\n",
    "df_0 = pd.read_csv(\"velocity_trajs/v_0.dat\", sep=' ', header=None)\n",
    "df_0.columns = ['t', 'v_x', 'v_y', 'v_z']\n",
    "\n",
    "print(\"Files read.\")\n",
    "\n",
    "# velocity autocorrelation functions\n",
    "aut_v_x = velocity_autocorr(df_0['v_x'])\n",
    "aut_v_y = velocity_autocorr(df_0['v_y'])\n",
    "aut_v_z = velocity_autocorr(df_0['v_z'])\n",
    "\n",
    "print(\"Correlations calculated.\")\n",
    "\n",
    "v_0 = np.array([df['v_x'].to_numpy(), df['v_y'].to_numpy(), df['v_z'].to_numpy()])\n"
   ]
  },
  {
   "cell_type": "code",
   "execution_count": null,
   "metadata": {},
   "outputs": [],
   "source": [
    "# plot the autocorrelation functions in a range around 0\n",
    "plot_range = 100\n",
    "plt.plot(aut_v_x[:plot_range], label=r'$\\langle v_x(t) v_x(0) \\rangle$')\n",
    "plt.plot(aut_v_y[:plot_range], label=r'$\\langle v_y(t) v_y(0) \\rangle$')\n",
    "plt.plot(aut_v_z[:plot_range], label=r'$\\langle v_z(t) v_z(0) \\rangle$')\n",
    "plt.xlabel(r'$t$')\n",
    "plt.ylabel(r'$\\langle v_i(t) v_i(0) \\rangle$')\n",
    "plt.legend()\n",
    "plt.title(r'Velocity autocorrelation functions.')"
   ]
  },
  {
   "cell_type": "code",
   "execution_count": null,
   "metadata": {},
   "outputs": [],
   "source": [
    "# calculate the diffusion constant\n",
    "D_0 = diffusion_const_3d(df_0['t'].to_numpy(), v_0)\n",
    "\n",
    "\n",
    "t = df_0['t'].to_numpy()[-1]   # Time limit\n",
    "v = v_0\n",
    "\n",
    "mean_square_displ_0 = mean_square_displ(t, v)"
   ]
  },
  {
   "attachments": {},
   "cell_type": "markdown",
   "metadata": {},
   "source": [
    "## calculation fot 1-st file"
   ]
  },
  {
   "cell_type": "code",
   "execution_count": null,
   "metadata": {},
   "outputs": [],
   "source": [
    "# read the files\n",
    "df_1 = pd.read_csv(\"velocity_trajs/v_1.dat\", sep=' ', header=None)\n",
    "df_1.columns = ['t', 'v_x', 'v_y', 'v_z']\n",
    "\n",
    "print(\"File read.\")\n",
    "\n",
    "# velocity autocorrelation functions\n",
    "aut_v_x = velocity_autocorr(df_1['v_x'])\n",
    "aut_v_y = velocity_autocorr(df_1['v_y'])\n",
    "aut_v_z = velocity_autocorr(df_1['v_z'])\n",
    "\n",
    "print(\"Correlations calculated.\")\n",
    "\n",
    "v_1 = np.array([df['v_x'].to_numpy(), df['v_y'].to_numpy(), df['v_z'].to_numpy()])\n"
   ]
  },
  {
   "cell_type": "code",
   "execution_count": null,
   "metadata": {},
   "outputs": [],
   "source": [
    "# plot the autocorrelation functions in a range around 0\n",
    "plot_range = 100\n",
    "plt.plot(aut_v_x[:plot_range], label=r'$\\langle v_x(t) v_x(0) \\rangle$')\n",
    "plt.plot(aut_v_y[:plot_range], label=r'$\\langle v_y(t) v_y(0) \\rangle$')\n",
    "plt.plot(aut_v_z[:plot_range], label=r'$\\langle v_z(t) v_z(0) \\rangle$')\n",
    "plt.xlabel(r'$t$')\n",
    "plt.ylabel(r'$\\langle v_i(t) v_i(0) \\rangle$')\n",
    "plt.legend()\n",
    "plt.title(r'Velocity autocorrelation functions.')"
   ]
  },
  {
   "cell_type": "code",
   "execution_count": null,
   "metadata": {},
   "outputs": [],
   "source": [
    "# calculate the diffusion constant\n",
    "D_1 = diffusion_const_3d(df_0['t'].to_numpy(), v_2)\n",
    "\n",
    "t = df_1['t'].to_numpy()[-1]   # Time limit\n",
    "v = v_1\n",
    "\n",
    "mean_square_displ_1 = mean_square_displ(t, v)"
   ]
  },
  {
   "attachments": {},
   "cell_type": "markdown",
   "metadata": {},
   "source": [
    "## calculation fot 2-nd file"
   ]
  },
  {
   "cell_type": "code",
   "execution_count": null,
   "metadata": {},
   "outputs": [],
   "source": [
    "# read the files\n",
    "df_2 = pd.read_csv(\"velocity_trajs/v_2.dat\", sep=' ', header=None)\n",
    "df_2.columns = ['t', 'v_x', 'v_y', 'v_z']\n",
    "\n",
    "print(\"File read.\")\n",
    "\n",
    "# velocity autocorrelation functions\n",
    "aut_v_x = velocity_autocorr(df_2['v_x'])\n",
    "aut_v_y = velocity_autocorr(df_2['v_y'])\n",
    "aut_v_z = velocity_autocorr(df_2['v_z'])\n",
    "\n",
    "print(\"Correlations calculated.\")\n",
    "\n",
    "v_2 = np.array([df['v_x'].to_numpy(), df['v_y'].to_numpy(), df['v_z'].to_numpy()])\n"
   ]
  },
  {
   "cell_type": "code",
   "execution_count": null,
   "metadata": {},
   "outputs": [],
   "source": [
    "# plot the autocorrelation functions in a range around 0\n",
    "plot_range = 100\n",
    "plt.plot(aut_v_x[:plot_range], label=r'$\\langle v_x(t) v_x(0) \\rangle$')\n",
    "plt.plot(aut_v_y[:plot_range], label=r'$\\langle v_y(t) v_y(0) \\rangle$')\n",
    "plt.plot(aut_v_z[:plot_range], label=r'$\\langle v_z(t) v_z(0) \\rangle$')\n",
    "plt.xlabel(r'$t$')\n",
    "plt.ylabel(r'$\\langle v_i(t) v_i(0) \\rangle$')\n",
    "plt.legend()\n",
    "plt.title(r'Velocity autocorrelation functions.')"
   ]
  },
  {
   "cell_type": "code",
   "execution_count": null,
   "metadata": {},
   "outputs": [],
   "source": [
    "# calculate the diffusion constant\n",
    "D_2 = diffusion_const_3d(df_2['t'].to_numpy(), v_2)\n",
    "\n",
    "t = df_2['t'].to_numpy()[-1]   # Time limit\n",
    "v = v_2\n",
    "\n",
    "mean_square_displ_1 = mean_square_displ(t, v)"
   ]
  },
  {
   "cell_type": "code",
   "execution_count": null,
   "metadata": {},
   "outputs": [],
   "source": [
    "print(f\"Diffusion constant for 0-th file: {D_0}\")\n",
    "print(f\"Diffusion constant for 1-th file: {D_1}\")\n",
    "print(f\"Diffusion constant for 2-th file: {D_2}\")\n",
    "\n",
    "print(\"Mean Square Displacement for the 0-th file: \", mean_square_displ_0)\n",
    "print(\"Mean Square Displacement for the 1-th file: \", mean_square_displ_1)\n",
    "print(\"Mean Square Displacement for the 2-th file: \", mean_square_displ_2)"
   ]
  }
 ],
 "metadata": {
  "kernelspec": {
   "display_name": "comp_phys",
   "language": "python",
   "name": "python3"
  },
  "language_info": {
   "codemirror_mode": {
    "name": "ipython",
    "version": 3
   },
   "file_extension": ".py",
   "mimetype": "text/x-python",
   "name": "python",
   "nbconvert_exporter": "python",
   "pygments_lexer": "ipython3",
   "version": "3.9.16"
  },
  "orig_nbformat": 4
 },
 "nbformat": 4,
 "nbformat_minor": 2
}
