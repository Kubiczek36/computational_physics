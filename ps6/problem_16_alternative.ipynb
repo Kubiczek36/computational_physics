{
 "cells": [
  {
   "cell_type": "code",
   "execution_count": 10,
   "metadata": {},
   "outputs": [],
   "source": [
    "import numpy as np\n",
    "from tqdm import tqdm\n",
    "import matplotlib.pyplot as plt\n",
    "import pandas as pd"
   ]
  },
  {
   "cell_type": "code",
   "execution_count": 23,
   "metadata": {},
   "outputs": [
    {
     "name": "stdout",
     "output_type": "stream",
     "text": [
      "File 0 read.\n",
      "File 1 read.\n",
      "File 2 read.\n"
     ]
    }
   ],
   "source": [
    "# read 0th file\n",
    "df_0 = pd.read_csv(\"velocity_trajs/v_0.dat\", sep=' ', header=None)\n",
    "print(\"File 0 read.\")\n",
    "df_0.columns = ['t', 'v_x', 'v_y', 'v_z']\n",
    "v_0 = np.array([df_0['v_x'].to_numpy(), df_0['v_y'].to_numpy(), df_0['v_z'].to_numpy()])\n",
    "\n",
    "# read the files\n",
    "df_1 = pd.read_csv(\"velocity_trajs/v_1.dat\", sep=' ', header=None)\n",
    "print(\"File 1 read.\")\n",
    "df_1.columns = ['t', 'v_x', 'v_y', 'v_z']\n",
    "v_1 = np.array([df_1['v_x'].to_numpy(), df_1['v_y'].to_numpy(), df_1['v_z'].to_numpy()])\n",
    "\n",
    "df_2 = pd.read_csv(\"velocity_trajs/v_2.dat\", sep=' ', header=None)\n",
    "print(\"File 2 read.\")\n",
    "df_2.columns = ['t', 'v_x', 'v_y', 'v_z']\n",
    "v_2 = np.array([df_2['v_x'].to_numpy(), df_2['v_y'].to_numpy(), df_2['v_z'].to_numpy()])"
   ]
  },
  {
   "cell_type": "code",
   "execution_count": 20,
   "metadata": {},
   "outputs": [
    {
     "name": "stderr",
     "output_type": "stream",
     "text": [
      "Calculating MSD:   0%|          | 0/4 [00:00<?, ?it/s]/Users/jakub.dokulil/opt/anaconda3/envs/comp_phys/lib/python3.9/site-packages/numpy/core/fromnumeric.py:3464: RuntimeWarning: Mean of empty slice.\n",
      "  return _methods._mean(a, axis=axis, dtype=dtype,\n",
      "/Users/jakub.dokulil/opt/anaconda3/envs/comp_phys/lib/python3.9/site-packages/numpy/core/_methods.py:192: RuntimeWarning: invalid value encountered in scalar divide\n",
      "  ret = ret.dtype.type(ret / rcount)\n",
      "Calculating MSD: 100%|██████████| 4/4 [00:00<00:00, 2405.34it/s]"
     ]
    },
    {
     "name": "stdout",
     "output_type": "stream",
     "text": [
      "[980.66666667 585.         257.                  nan]\n"
     ]
    },
    {
     "name": "stderr",
     "output_type": "stream",
     "text": [
      "\n"
     ]
    }
   ],
   "source": [
    "import numpy as np\n",
    "from tqdm import tqdm\n",
    "\n",
    "def mean_square_displacement(v, t):\n",
    "    num_steps = v.shape[1]\n",
    "    msd = np.zeros(num_steps)\n",
    "\n",
    "    for i in tqdm(range(num_steps), desc='Calculating MSD'):\n",
    "        delta_t = t[i+1:] - t[i]\n",
    "        delta_rx = v[0, i+1:] * delta_t\n",
    "        delta_ry = v[1, i+1:] * delta_t\n",
    "        delta_rz = v[2, i+1:] * delta_t\n",
    "        squared_displacement = delta_rx**2 + delta_ry**2 + delta_rz**2\n",
    "        msd[i] = np.mean(squared_displacement)\n",
    "\n",
    "    return msd\n",
    "\n",
    "# Example usage with a single particle\n",
    "v_particle = np.array([[1, 3, 5, 7],\n",
    "                       [2, 4, 6, 8],\n",
    "                       [3, 6, 9, 12]])\n",
    "t = np.array([0, 1, 2, 3])\n",
    "\n",
    "result = mean_square_displacement(v_particle, t)\n",
    "print(result)"
   ]
  },
  {
   "cell_type": "code",
   "execution_count": 24,
   "metadata": {},
   "outputs": [
    {
     "name": "stderr",
     "output_type": "stream",
     "text": [
      "Calculating MSD:  48%|████▊     | 95498/200000 [00:59<00:50, 2083.27it/s]"
     ]
    }
   ],
   "source": [
    "mean_square_displ_0 = mean_square_displacement(v_0, df_0['t'].to_numpy())"
   ]
  },
  {
   "cell_type": "code",
   "execution_count": null,
   "metadata": {},
   "outputs": [
    {
     "name": "stderr",
     "output_type": "stream",
     "text": [
      "Calculating MSD:  98%|█████████▊| 196478/200000 [02:30<00:00, 18138.38it/s]/Users/jakub.dokulil/opt/anaconda3/envs/comp_phys/lib/python3.9/site-packages/numpy/core/fromnumeric.py:3464: RuntimeWarning: Mean of empty slice.\n",
      "  return _methods._mean(a, axis=axis, dtype=dtype,\n",
      "/Users/jakub.dokulil/opt/anaconda3/envs/comp_phys/lib/python3.9/site-packages/numpy/core/_methods.py:192: RuntimeWarning: invalid value encountered in scalar divide\n",
      "  ret = ret.dtype.type(ret / rcount)\n",
      "Calculating MSD: 100%|██████████| 200000/200000 [02:30<00:00, 1329.44it/s] \n"
     ]
    }
   ],
   "source": [
    "mean_square_displ_1 = mean_square_displacement(v_1, df_1['t'].to_numpy())"
   ]
  },
  {
   "cell_type": "code",
   "execution_count": null,
   "metadata": {},
   "outputs": [],
   "source": [
    "mean_square_displ_2 = mean_square_displacement(v_2, df_2['t'].to_numpy())"
   ]
  },
  {
   "cell_type": "code",
   "execution_count": null,
   "metadata": {},
   "outputs": [],
   "source": [
    "print(\"MSD calculated. \\n\")\n",
    "\n",
    "print(\"Mean square displacement for dataset 0: \", mean_square_displ_0)\n",
    "print(\"Mean square displacement for dataset 1: \", mean_square_displ_1)\n",
    "print(\"Mean square displacement for dataset 2: \", mean_square_displ_2)\n"
   ]
  }
 ],
 "metadata": {
  "kernelspec": {
   "display_name": "comp_phys",
   "language": "python",
   "name": "python3"
  },
  "language_info": {
   "codemirror_mode": {
    "name": "ipython",
    "version": 3
   },
   "file_extension": ".py",
   "mimetype": "text/x-python",
   "name": "python",
   "nbconvert_exporter": "python",
   "pygments_lexer": "ipython3",
   "version": "3.9.16"
  },
  "orig_nbformat": 4
 },
 "nbformat": 4,
 "nbformat_minor": 2
}
